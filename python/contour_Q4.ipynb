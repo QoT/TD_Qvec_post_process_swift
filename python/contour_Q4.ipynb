{
 "cells": [
  {
   "cell_type": "code",
   "execution_count": null,
   "metadata": {
    "scrolled": false
   },
   "outputs": [],
   "source": [
    "import os, glob\n",
    "import math\n",
    "\n",
    "import numpy as np\n",
    "import pandas as pd\n",
    "\n",
    "import matplotlib as mpl\n",
    "#for use with workstation\n",
    "#matplotlib.use('agg')\n",
    "import matplotlib.pyplot as plt\n",
    "\n",
    "print(\"Matplotlib %s\" % mpl.__version__)\n",
    "%matplotlib inline\n",
    "\n",
    "dirroot = \"/path\"\n",
    "dirroot = os.environ.get(\"DIRROOT\", dirroot)"
   ]
  },
  {
   "cell_type": "code",
   "execution_count": null,
   "metadata": {},
   "outputs": [],
   "source": [
    "\n",
    "directory = \"/plot_vertical_axis_XYplane_V_4_Q_4_step_00000050_cut_42\"\n",
    "\n",
    "\n",
    "directory = os.environ.get(\"DIRECTORY\", directory)\n",
    "\n",
    "image = \"Qvec_uxyz_log_vort\"\n",
    "\n",
    "\n",
    "filename = \"%s/%s/%s.bin\" % (dirroot, directory, image)\n",
    "\n",
    "\n",
    "if os.path.isfile(filename):\n",
    "    print(filename)\n",
    "else:\n",
    "    print(\"Not found: %s\" % filename)\n"
   ]
  },
  {
   "cell_type": "code",
   "execution_count": null,
   "metadata": {},
   "outputs": [],
   "source": [
    "d = np.fromfile(filename, dtype=np.float32)\n",
    "\n",
    "mind = np.nanmin(d)\n",
    "maxd = np.nanmax(d)\n",
    "\n",
    "\n",
    "snx = int(math.sqrt(len(d)))\n",
    "print(len(d), snx, snx*snx, mind, maxd)\n",
    "\n",
    "\n",
    "npd = np.reshape(d,(snx,snx))\n",
    "data = pd.DataFrame(npd.transpose())\n",
    "\n",
    "print(data.shape)\n",
    "\n",
    "\n",
    "DPI = 100\n",
    "mpl_fig = plt.figure(figsize=(20, 20), dpi=DPI)\n",
    "ax = mpl_fig.add_subplot(111)\n",
    "ax.invert_yaxis()\n",
    "ax.xaxis.tick_top()\n",
    "\n",
    "\n",
    "min = -35\n",
    "max = -5\n",
    "num_levels = 50\n",
    "\n",
    "contours = plt.contourf(data, num_levels, cmap=plt.cm.rainbow)\n",
    "plt.gca().invert_yaxis()\n",
    "\n",
    "\n",
    "filepng = \"%s.png\" % (filename[:-4])\n",
    "\n",
    "plt.savefig(filepng)\n",
    "\n",
    "plt.show()"
   ]
  },
  {
   "cell_type": "code",
   "execution_count": null,
   "metadata": {},
   "outputs": [],
   "source": []
  }
 ],
 "metadata": {
  "kernelspec": {
   "display_name": "Python 2",
   "language": "python",
   "name": "python2"
  },
  "language_info": {
   "codemirror_mode": {
    "name": "ipython",
    "version": 2
   },
   "file_extension": ".py",
   "mimetype": "text/x-python",
   "name": "python",
   "nbconvert_exporter": "python",
   "pygments_lexer": "ipython2",
   "version": "2.7.10"
  }
 },
 "nbformat": 4,
 "nbformat_minor": 2
}
